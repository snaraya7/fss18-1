{
 "cells": [
  {
   "attachments": {},
   "cell_type": "markdown",
   "metadata": {},
   "source": [
    "# A Step-by-Step Guide to building a Differential Evolution\n",
    "\n",
    "## First, let's look at a simple model\n",
    "\n",
    "#### The Schaffer Model\n",
    "\n",
    "+ We have one variable called `x`.\n",
    "+ We have two objectives called `Obj1(x)` and `Obj2(x)`\n",
    "+ And we want to minimize both.\n",
    "\n",
    "![image](https://user-images.githubusercontent.com/1433964/48224811-fe753c00-e368-11e8-955a-57b0a8d362f4.png)\n",
    "\n",
    "**Let's solve this by hand (White Board)**\n",
    "\n",
    "+ Pareto frontier look?\n",
    "![image](https://user-images.githubusercontent.com/1433964/48224740-c0781800-e368-11e8-97c5-3568e8e64bad.png)\n",
    "\n",
    "## 1. Let's write a scoring function"
   ]
  },
  {
   "cell_type": "code",
   "execution_count": 3,
   "metadata": {},
   "outputs": [],
   "source": [
    "def obj1(candidate):\n",
    "    \"\"\" Objective 1\n",
    "    Parameter\n",
    "    ---------\n",
    "    candidate: int, float\n",
    "        A Member of the population\n",
    "    \n",
    "    Returns\n",
    "    -------\n",
    "    float:\n",
    "        First objective\n",
    "    \"\"\"\n",
    "    return candidate ** 2\n",
    "\n",
    "def obj2(candidate):\n",
    "    \"\"\" Objective 2\n",
    "    \n",
    "    Parameter\n",
    "    ---------\n",
    "    candidate: int, float\n",
    "        A Member of the population\n",
    "    \n",
    "    Returns\n",
    "    -------\n",
    "    float:\n",
    "        First objective\n",
    "    \"\"\"\n",
    "    return (candidate-2) ** 2\n",
    "\n",
    "def score(candidate):\n",
    "    o1 = obj1(candidate)\n",
    "    o2 = obj2(candidate)\n",
    "    return o1, o2"
   ]
  },
  {
   "cell_type": "markdown",
   "metadata": {},
   "source": [
    "## 2. Let's Write a Domination Function\n"
   ]
  },
  {
   "cell_type": "code",
   "execution_count": 5,
   "metadata": {},
   "outputs": [],
   "source": [
    "def dominates(candidate1, candidate2):\n",
    "    \"\"\"\n",
    "    Does candidate 1 dominate candidate 2?\n",
    "    \n",
    "    TASK \n",
    "    ----\n",
    "    + Write a continuous domination function on your own.\n",
    "    \"\"\"\n",
    "    o1_candidate_1, o2_candidate_1 = score(candidate1)\n",
    "    o1_candidate_2, o2_candidate_2 = score(candidate2)\n",
    "    \n",
    "    \"I'm doing a binary domination\"\n",
    "    return o1_candidate_1 < o1_candidate_2 and o2_candidate_1 < o2_candidate_2"
   ]
  },
  {
   "cell_type": "markdown",
   "metadata": {},
   "source": [
    "# 3. Now, let's write an Extrapolation Function for a DE"
   ]
  },
  {
   "cell_type": "code",
   "execution_count": 10,
   "metadata": {},
   "outputs": [],
   "source": [
    "import numpy as np\n",
    "def extrapolate(old, population, cr, f):\n",
    "    one, two, three = tuple(np.random.choice(population, size=3, replace=False))\n",
    "    new = None\n",
    "    \"\"\"\n",
    "    Q: What would you do if onw, two, and three are arrays?\n",
    "    \n",
    "    TASK\n",
    "    ----\n",
    "    Implement this for a list/array instead of a single value.\n",
    "    \"\"\"\n",
    "    if cr < np.random.rand():\n",
    "        new = old\n",
    "    else:\n",
    "        new = one + f * (two - three)\n",
    "\n",
    "    return new"
   ]
  },
  {
   "cell_type": "markdown",
   "metadata": {},
   "source": [
    "# Finally, let's write a Differential Evolution\n"
   ]
  },
  {
   "cell_type": "code",
   "execution_count": 39,
   "metadata": {},
   "outputs": [
    {
     "name": "stdout",
     "output_type": "stream",
     "text": [
      "2.1920653439640745\n"
     ]
    }
   ],
   "source": [
    "import random\n",
    "import numpy as np\n",
    "\n",
    "def improved(a):\n",
    "    \"\"\"\n",
    "    TASK:\n",
    "    Can you think of a way to do this?\n",
    "    \"\"\"\n",
    "    return False\n",
    "\n",
    "def best(lst):\n",
    "    return min(map(abs, lst))\n",
    "\n",
    "def diff_evol(pop_size, f, cr, life):\n",
    "    # Create an initial population\n",
    "    population = [random.uniform(-100, 100) for _ in range(pop_size)]\n",
    "    \n",
    "    while life > 0:\n",
    "        new_pop = []\n",
    "        for i in range(pop_size):\n",
    "            old_member = population[i]\n",
    "            new_member = extrapolate(old_member, population, cr, f)\n",
    "            if dominates(new_member, old_member):\n",
    "                new_pop.append(new_member)\n",
    "            else:\n",
    "                new_pop.append(old_member)\n",
    "        population = new_pop\n",
    "        if not improved(new_pop):\n",
    "            life -= 1\n",
    "    \n",
    "    return best(population)\n",
    "\n",
    "if __name__ == \"__main__\":\n",
    "    pareto = diff_evol(pop_size=10, f=0.5, cr=0.2, life=10)\n",
    "    print(pareto)"
   ]
  }
 ],
 "metadata": {
  "kernelspec": {
   "display_name": "Python 3",
   "language": "python",
   "name": "python3"
  },
  "language_info": {
   "codemirror_mode": {
    "name": "ipython",
    "version": 3
   },
   "file_extension": ".py",
   "mimetype": "text/x-python",
   "name": "python",
   "nbconvert_exporter": "python",
   "pygments_lexer": "ipython3",
   "version": "3.6.6"
  }
 },
 "nbformat": 4,
 "nbformat_minor": 2
}
